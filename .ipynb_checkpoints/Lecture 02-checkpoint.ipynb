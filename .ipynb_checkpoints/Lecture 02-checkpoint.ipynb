{
 "cells": [
  {
   "cell_type": "markdown",
   "id": "86402364-6779-46b1-9031-a8d7fc6a4899",
   "metadata": {},
   "source": [
    "# 큰제목"
   ]
  },
  {
   "cell_type": "markdown",
   "id": "a3dc1b95-6643-4562-84e0-f296e9533007",
   "metadata": {},
   "source": [
    "## 중간 제목"
   ]
  },
  {
   "cell_type": "markdown",
   "id": "ace56d81-7f3a-4d4e-a8b6-6620e8ddc44c",
   "metadata": {},
   "source": [
    "### 작은 제목"
   ]
  },
  {
   "cell_type": "code",
   "execution_count": null,
   "id": "bdf53ecd-0987-451f-a487-67e4c4e0beee",
   "metadata": {},
   "outputs": [],
   "source": [
    "# .py <-- python\n",
    "# .ipynb <-- interactive python notebook"
   ]
  },
  {
   "cell_type": "code",
   "execution_count": null,
   "id": "e04a54cf-1cc9-47d8-ba92-c41b7a20cfdc",
   "metadata": {},
   "outputs": [],
   "source": [
    "# 기준\n",
    "# 위로 셀 추가 a\n",
    "# 아래로 셀 추가 b\n",
    "# 삭제는 dd"
   ]
  },
  {
   "cell_type": "markdown",
   "id": "027abb6f-c21c-498b-8d42-b044c46bbbd3",
   "metadata": {},
   "source": [
    "### **Chapter 02. 출력과 입력 그리고 변수**"
   ]
  },
  {
   "cell_type": "code",
   "execution_count": 10,
   "id": "07ea9652-8b4a-4dc7-abcf-5f46a24ed349",
   "metadata": {},
   "outputs": [
    {
     "name": "stdout",
     "output_type": "stream",
     "text": [
      "안녕하세요!\n",
      "만나서 반가워요!\n"
     ]
    }
   ],
   "source": [
    "print(\"안녕하세요!\") # \"~~~\" --> 문자열 --> string --> str\n",
    "print('만나서 반가워요!') # '~~~'"
   ]
  },
  {
   "cell_type": "code",
   "execution_count": 11,
   "id": "781e90c2-8e7f-4da6-a5d8-7a32ac92e4a5",
   "metadata": {},
   "outputs": [
    {
     "name": "stdout",
     "output_type": "stream",
     "text": [
      "2025\n",
      "317\n",
      "10.56\n"
     ]
    }
   ],
   "source": [
    "print(2025) # 정수 (Integer) --> int\n",
    "print(317) # 정수\n",
    "print(10.56) # 실수 (Real Number, Floating-Point Number) --> float"
   ]
  },
  {
   "cell_type": "code",
   "execution_count": 13,
   "id": "21ac5e93-ed30-46ef-a786-71f0c39ffb1c",
   "metadata": {},
   "outputs": [
    {
     "name": "stdout",
     "output_type": "stream",
     "text": [
      "Hello! Good Morning!\n",
      "Hello!Good Morning!\n"
     ]
    }
   ],
   "source": [
    "print(\"Hello!\", \"Good Morning!\") # 쉼표 (comma) 연산자\n",
    "print(\"Hello!\" + \"Good Morning!\") # 문자열 + 문자열"
   ]
  },
  {
   "cell_type": "code",
   "execution_count": 20,
   "id": "9cac8ef8-e45a-4128-a6d8-237e57325906",
   "metadata": {},
   "outputs": [
    {
     "name": "stdout",
     "output_type": "stream",
     "text": [
      "<class 'str'>\n",
      "<class 'int'>\n"
     ]
    }
   ],
   "source": [
    "# print(\"hi\" + 11) # 문자열 + 정수형(int) 더하기 연산자는 같은 자료형에만\n",
    "\n",
    "print(type(\"hi\")) # Data Type (자료형) --> type\n",
    "print(type(11))"
   ]
  },
  {
   "cell_type": "code",
   "execution_count": 21,
   "id": "695df8c8-47a9-4a12-9534-712a2a67657c",
   "metadata": {},
   "outputs": [
    {
     "name": "stdout",
     "output_type": "stream",
     "text": [
      "hi 11\n",
      "hi 11\n",
      "hi 11\n"
     ]
    }
   ],
   "source": [
    "print(\"hi\", 11)\n",
    "print(\"hi\", str(11)) # 11(int) --> str() --> \"11\"(str): 강제 형 변환\n",
    "print(\"hi\", \"11\")"
   ]
  },
  {
   "cell_type": "code",
   "execution_count": 16,
   "id": "150b4345-5995-4273-9329-5fb6292e56ec",
   "metadata": {},
   "outputs": [
    {
     "name": "stdout",
     "output_type": "stream",
     "text": [
      "20\n"
     ]
    }
   ],
   "source": [
    "print(3 + 17)"
   ]
  },
  {
   "cell_type": "code",
   "execution_count": 24,
   "id": "0e05647b-4f30-4b70-adec-f190a8139b3f",
   "metadata": {},
   "outputs": [
    {
     "name": "stdout",
     "output_type": "stream",
     "text": [
      "17\n",
      "11.08\n",
      "배고프다\n"
     ]
    }
   ],
   "source": [
    "# 변수 (Variable): 변할 수 있는 수\n",
    "a = 17 # 정수\n",
    "print(a)\n",
    "\n",
    "b = 11.08\n",
    "print(b)\n",
    "\n",
    "c = \"배고프다\" # 문자열\n",
    "print(c)"
   ]
  },
  {
   "cell_type": "code",
   "execution_count": 25,
   "id": "5832d010-ddb2-48a8-9102-d2d358e06b9c",
   "metadata": {},
   "outputs": [
    {
     "name": "stdout",
     "output_type": "stream",
     "text": [
      "17 11.08 배고프다\n"
     ]
    }
   ],
   "source": [
    "print(a, b, c)"
   ]
  },
  {
   "cell_type": "code",
   "execution_count": 30,
   "id": "2eb056a6-e6de-4a59-953a-e9724ee2e2a2",
   "metadata": {},
   "outputs": [
    {
     "name": "stdin",
     "output_type": "stream",
     "text": [
      "좋아하는 숫자를 입력하세요: 3\n"
     ]
    },
    {
     "name": "stdout",
     "output_type": "stream",
     "text": [
      "3\n"
     ]
    }
   ],
   "source": [
    "# 입력하다 --> input # 키보드를 통해서, 숫자(정수, 실수) 또는 문자열을 전달할 때\n",
    "d = input(\"좋아하는 숫자를 입력하세요:\")\n",
    "print(d)"
   ]
  },
  {
   "cell_type": "code",
   "execution_count": 41,
   "id": "7c76b5e6-dfea-4ed0-9950-b850221e6686",
   "metadata": {},
   "outputs": [
    {
     "name": "stdout",
     "output_type": "stream",
     "text": [
      "a = 17\n",
      "<class 'int'>\n",
      "d = 3\n",
      "<class 'str'>\n",
      "<class 'int'>\n",
      "20\n"
     ]
    }
   ],
   "source": [
    "print(\"a =\", a)\n",
    "print(type(a)) # int\n",
    "\n",
    "print(\"d =\", d)\n",
    "print(type(d)) # str\n",
    "\n",
    "print(type(int(d))) # str --> int() --> int\n",
    "print(a + int(d))"
   ]
  },
  {
   "cell_type": "markdown",
   "id": "ed1eaac4-2a36-42ae-b31d-52f8aa2be5a6",
   "metadata": {},
   "source": [
    "### **Chapter 02. 연산자 사용하기**"
   ]
  },
  {
   "cell_type": "code",
   "execution_count": 42,
   "id": "cd6908f2-5cba-4f22-a014-b3209744e56a",
   "metadata": {},
   "outputs": [
    {
     "name": "stdout",
     "output_type": "stream",
     "text": [
      "20\n",
      "-14\n",
      "51\n",
      "81\n",
      "0\n",
      "3\n",
      "0.75\n"
     ]
    }
   ],
   "source": [
    "# 산술 연산자\n",
    "print(3 + 17) # 덧셈\n",
    "print(3 - 17) # 뺄셈\n",
    "print(3 * 17) # 곱셈 (* <-- 애스터리스크(라틴어: 별), 별표)\n",
    "print(3 ** 4) # 거듭제곱\n",
    "print(3 // 4) # 정수 체계 -> 나눗셈 -> 몫\n",
    "print(3 % 4) # 정수 체계 -> 나눗셈 -> 나머지\n",
    "print(3 / 4) # 실수 체계 -> 나눗셈"
   ]
  },
  {
   "cell_type": "code",
   "execution_count": 43,
   "id": "6cb4c48d-0ffa-4251-8561-7060cf4a4fe9",
   "metadata": {},
   "outputs": [
    {
     "name": "stdout",
     "output_type": "stream",
     "text": [
      "False\n",
      "False\n",
      "True\n",
      "True\n",
      "False\n",
      "True\n"
     ]
    }
   ],
   "source": [
    "# 비교 연산자 <-- if 조건문에서 '명제'를 생성할 때 사용!\n",
    "print(11 > 26) # 거짓 --> False(0)\n",
    "print(11 >= 26)\n",
    "print(11 < 26) # 진실 --> True(0을 제외한 모든 숫자, 1)\n",
    "print(11 <= 26)\n",
    "\n",
    "print(11 == 26) # ==: 좌항과 우항이 서로 같다! # =: 대입 연산자\n",
    "print(11 != 26) # !=: Not(부정)"
   ]
  },
  {
   "cell_type": "code",
   "execution_count": 44,
   "id": "40cc923c-f1cd-4a05-9a69-3a01252e34a0",
   "metadata": {},
   "outputs": [
    {
     "name": "stdout",
     "output_type": "stream",
     "text": [
      "True\n",
      "False\n"
     ]
    }
   ],
   "source": [
    "# 논리 연산자: And(논리곱), Or(논리합), Not(부정), XOR(배타적 논리합, eXclusive Or)\n",
    "# 명제와 명제를 결합해서, 복합 명제를 만들 때 사용함!\n",
    "\n",
    "# 그리고\n",
    "print((3 < 17) and (11 < 32))\n",
    "print((3 < 17) and (11 > 32))"
   ]
  },
  {
   "cell_type": "code",
   "execution_count": 46,
   "id": "5694b2de-8cb9-4ec1-9deb-55b742e42d59",
   "metadata": {},
   "outputs": [
    {
     "name": "stdout",
     "output_type": "stream",
     "text": [
      "True\n",
      "True\n",
      "False\n"
     ]
    }
   ],
   "source": [
    "# 또는\n",
    "print((3 < 17) or (11 < 32))\n",
    "print((3 < 17) or (11 > 32))\n",
    "print((3 > 17) or (11 > 32))"
   ]
  },
  {
   "cell_type": "code",
   "execution_count": 47,
   "id": "3619437c-9f85-47d2-96d0-e500b308e75f",
   "metadata": {},
   "outputs": [
    {
     "name": "stdout",
     "output_type": "stream",
     "text": [
      "Before: True\n",
      "After: False\n",
      "\n",
      "Before: False\n",
      "After: True\n"
     ]
    }
   ],
   "source": [
    "# 부정\n",
    "print(\"Before:\", (3 < 17))\n",
    "print(\"After:\", not(3 < 17)) # True -> False\n",
    "\n",
    "print()\n",
    "\n",
    "print(\"Before:\", (11 > 36))\n",
    "print(\"After:\", not(11 > 36)) # False -> True"
   ]
  },
  {
   "cell_type": "markdown",
   "id": "92759935-b648-4b7a-b30b-690fce0b3380",
   "metadata": {},
   "source": [
    "### **Chapter 03. 함수 불러오기**"
   ]
  },
  {
   "cell_type": "code",
   "execution_count": 48,
   "id": "1ecc6199-a438-42e1-837f-ec73a9854ca2",
   "metadata": {},
   "outputs": [
    {
     "name": "stdout",
     "output_type": "stream",
     "text": [
      "7\n"
     ]
    }
   ],
   "source": [
    "# 내장 라이브러리 --> 내장 함수\n",
    "# 외부 라이브러리: numpy, pandas, matplotlib, seaborn\n",
    "# 1) pip install 라이브러리_이름\n",
    "# 2) import 라이브러리_이름 <-- n. 수입(품), v. 수입하다, 불러오다\n",
    "import random\n",
    "\n",
    "lotto = random.randint(1, 45) # random + integer --> 무작위로 생성한 정수 값!\n",
    "print(lotto)"
   ]
  },
  {
   "cell_type": "code",
   "execution_count": 49,
   "id": "2042505e-7509-4323-860e-8aa2bfbb4897",
   "metadata": {},
   "outputs": [
    {
     "name": "stdout",
     "output_type": "stream",
     "text": [
      "1.4142135623730951\n",
      "2.0\n"
     ]
    }
   ],
   "source": [
    "import math\n",
    "\n",
    "print(math.sqrt(2)) # 제곱근 --> square root --> sqrt\n",
    "print(math.sqrt(4))"
   ]
  },
  {
   "cell_type": "markdown",
   "id": "ec4593b1-08b9-4cf5-82a7-5e053eef32db",
   "metadata": {},
   "source": [
    "### **Chapter 04. 반복과 선택**"
   ]
  },
  {
   "cell_type": "code",
   "execution_count": 50,
   "id": "926c7fb8-5cea-4611-914b-582ba124fd9e",
   "metadata": {},
   "outputs": [
    {
     "name": "stdout",
     "output_type": "stream",
     "text": [
      "회차: 0\n",
      "회차: 1\n",
      "회차: 2\n",
      "회차: 3\n",
      "회차: 4\n"
     ]
    }
   ],
   "source": [
    "for num in range(0, 5, 1): # [0, 1, 2, 3, 4] # 5는 미만으로 해석됨!\n",
    "    print(\"회차:\", num)"
   ]
  },
  {
   "cell_type": "code",
   "execution_count": 53,
   "id": "000ac925-67a9-43b4-85b0-f54639d32ff3",
   "metadata": {},
   "outputs": [
    {
     "name": "stdout",
     "output_type": "stream",
     "text": [
      "회차: 0\n",
      "회차: 1\n",
      "회차: 2\n",
      "회차: 3\n",
      "회차: 4\n"
     ]
    }
   ],
   "source": [
    "for num in range(5): # 0부터 시작하고 1씩 증가하면 생략 시작과 증감은 가능\n",
    "    print(\"회차:\", num)"
   ]
  },
  {
   "cell_type": "code",
   "execution_count": 54,
   "id": "47d1b59d-5737-406b-bf86-7ce33308a143",
   "metadata": {},
   "outputs": [
    {
     "name": "stdout",
     "output_type": "stream",
     "text": [
      "회차: 2\n",
      "회차: 3\n",
      "회차: 4\n"
     ]
    }
   ],
   "source": [
    "for num in range(2, 5):\n",
    "    print(\"회차:\", num)"
   ]
  },
  {
   "cell_type": "code",
   "execution_count": 55,
   "id": "97d2e5d7-d262-400c-bd59-edb64d84447f",
   "metadata": {},
   "outputs": [
    {
     "name": "stdout",
     "output_type": "stream",
     "text": [
      "회차: 2\n",
      "회차: 4\n",
      "회차: 6\n",
      "회차: 8\n"
     ]
    }
   ],
   "source": [
    "for num in range(2, 10, 2):\n",
    "    print(\"회차:\", num)"
   ]
  },
  {
   "cell_type": "code",
   "execution_count": 56,
   "id": "87e0aa2a-fcb2-463f-93f2-cb491536ef6e",
   "metadata": {},
   "outputs": [
    {
     "name": "stdout",
     "output_type": "stream",
     "text": [
      "숫자: 1\n",
      "숫자: 1.5\n",
      "숫자: 3\n",
      "숫자: 8\n",
      "숫자: 17\n"
     ]
    }
   ],
   "source": [
    "for num in [1, 1.5, 3, 8, 17]:\n",
    "    print(\"숫자:\", num)"
   ]
  },
  {
   "cell_type": "code",
   "execution_count": 57,
   "id": "be1c7a15-bb8c-4eee-bdcf-aa4dc4735e26",
   "metadata": {},
   "outputs": [
    {
     "name": "stdout",
     "output_type": "stream",
     "text": [
      "요일: 월\n",
      "요일: 화\n",
      "요일: 수\n",
      "요일: 목\n",
      "요일: 금\n"
     ]
    }
   ],
   "source": [
    "for day in ['월', '화', '수', '목', '금']:\n",
    "    print(\"요일:\", day)"
   ]
  },
  {
   "cell_type": "code",
   "execution_count": 59,
   "id": "4cb9713f-5007-4738-852b-a240695490a4",
   "metadata": {},
   "outputs": [
    {
     "name": "stdout",
     "output_type": "stream",
     "text": [
      "참이지롱~\n"
     ]
    }
   ],
   "source": [
    "# if 조건문 --> 프로그램 내에서 분기를 만들 때 주로 사용함!\n",
    "# if (명제):\n",
    "# if (명제1) and (명제2):\n",
    "\n",
    "if (12 > 14): # 거짓이라서\n",
    "    print(\"거짓이지롱~\") # 무시됨\n",
    "\n",
    "if (12 < 14):\n",
    "    print(\"참이지롱~\")"
   ]
  },
  {
   "cell_type": "code",
   "execution_count": 62,
   "id": "0ac11da7-f4f8-4655-a728-c756119dba87",
   "metadata": {},
   "outputs": [
    {
     "name": "stdout",
     "output_type": "stream",
     "text": [
      "두 명제가 모두 참입니다!\n",
      "두 명제 중 적어도 하나가 참입니다!\n"
     ]
    }
   ],
   "source": [
    "if (12 < 25) and (3 < 17):\n",
    "    print(\"두 명제가 모두 참입니다!\")\n",
    "\n",
    "if (12 < 25) or (3 < 17):\n",
    "    print(\"두 명제 중 적어도 하나가 참입니다!\")"
   ]
  },
  {
   "cell_type": "markdown",
   "id": "e205ca29-2afb-469b-ae2a-1758ba15d381",
   "metadata": {},
   "source": [
    "### **Chapter 05. 순서가 있는 저장 공간 리스트**"
   ]
  },
  {
   "cell_type": "code",
   "execution_count": 65,
   "id": "d4073bde-5ada-4ba4-95e3-8de07046e506",
   "metadata": {},
   "outputs": [
    {
     "name": "stdout",
     "output_type": "stream",
     "text": [
      "[1, 2, 3, 4, 5, 6, 7, 8]\n",
      "<class 'list'>\n"
     ]
    }
   ],
   "source": [
    "# int, float, str\n",
    "# 리스트, 튜플, 세트, 딕셔너리 등\n",
    "# 리스트 <-- 매우 중요\n",
    "a = [1, 2, 3, 4, 5, 6, 7, 8]\n",
    "print(a)\n",
    "print(type(a))"
   ]
  },
  {
   "cell_type": "code",
   "execution_count": 66,
   "id": "1780f4e4-118f-4137-9bd9-b7542484f09e",
   "metadata": {},
   "outputs": [
    {
     "name": "stdout",
     "output_type": "stream",
     "text": [
      "[1.5, 2.5, 3.5, 4.5, 5.5, 6.5, 7.5, 8.5]\n",
      "<class 'list'>\n"
     ]
    }
   ],
   "source": [
    "b = [1.5, 2.5, 3.5, 4.5, 5.5, 6.5, 7.5, 8.5]\n",
    "print(b)\n",
    "print(type(b))"
   ]
  },
  {
   "cell_type": "code",
   "execution_count": 67,
   "id": "e9aaff84-4e9d-4d42-a4f7-825d7c286096",
   "metadata": {},
   "outputs": [
    {
     "name": "stdout",
     "output_type": "stream",
     "text": [
      "['월', '화', '수', '목', '금']\n",
      "<class 'list'>\n"
     ]
    }
   ],
   "source": [
    "c = ['월', '화', '수', '목', '금']\n",
    "print(c)\n",
    "print(type(c))"
   ]
  },
  {
   "cell_type": "code",
   "execution_count": 70,
   "id": "e6d66787-4fd5-42c0-a039-598a9dc1386c",
   "metadata": {},
   "outputs": [
    {
     "name": "stdout",
     "output_type": "stream",
     "text": [
      "[1, 2, 3, 4, 5, 6, 7, 8]\n",
      "['월', '화', '수', '목', '금']\n",
      "\n",
      "[1, 2, 3, 4, 5, 6, 7, 8, '월', '화', '수', '목', '금']\n"
     ]
    }
   ],
   "source": [
    "print(a)\n",
    "print(c)\n",
    "\n",
    "print()\n",
    "\n",
    "print(a + c) # 리스트 + 리스트"
   ]
  },
  {
   "cell_type": "code",
   "execution_count": 71,
   "id": "8e628651-e6ce-42b1-a736-8c38a040775f",
   "metadata": {},
   "outputs": [
    {
     "name": "stdout",
     "output_type": "stream",
     "text": [
      "[1, 2, 3, 4, 5, 6, 7, 8]\n"
     ]
    }
   ],
   "source": [
    "print(a)"
   ]
  },
  {
   "cell_type": "code",
   "execution_count": 83,
   "id": "a926bf39-182d-449d-9f49-7dcaa69165cf",
   "metadata": {},
   "outputs": [
    {
     "name": "stdout",
     "output_type": "stream",
     "text": [
      "1\n",
      "2\n",
      "3\n"
     ]
    }
   ],
   "source": [
    "# 값 추출하기\n",
    "# 인덱싱(Indexing) & 슬라이싱(Slicing)\n",
    "\n",
    "# 인덱싱\n",
    "print(a[0]) # 방 번호 <-- 인덱스(Index, 색인)\n",
    "print(a[1])\n",
    "print(a[2])"
   ]
  },
  {
   "cell_type": "code",
   "execution_count": 84,
   "id": "55614a75-f918-4d66-8e91-def243e998b9",
   "metadata": {},
   "outputs": [
    {
     "name": "stdout",
     "output_type": "stream",
     "text": [
      "<class 'int'>\n"
     ]
    }
   ],
   "source": [
    "print(type(a[0]))"
   ]
  },
  {
   "cell_type": "code",
   "execution_count": 79,
   "id": "7aba3b54-c12d-4de4-937c-092c9f0d0458",
   "metadata": {},
   "outputs": [
    {
     "name": "stdout",
     "output_type": "stream",
     "text": [
      "[1, 2, 3, 4]\n",
      "[1, 2, 3, 4]\n",
      "[1, 2, 3, 4, 5, 6, 7, 8]\n"
     ]
    }
   ],
   "source": [
    "# 슬라이스 햄 --> 페페로니 피자\n",
    "# 슬라이싱 --> 덩어리 째로 저장된 값들을 접근/추출할 때!\n",
    "print(a[0:4]) # 4는 미만으로 해석됨 --> 0, 1, 2, 3번 방에 저장된 값을 뽑아냄\n",
    "print(a[:4]) # 시작이 0일 때는 생략 가능\n",
    "print(a[:]) # 모두 출력"
   ]
  },
  {
   "cell_type": "code",
   "execution_count": 81,
   "id": "b64054a7-58e7-488a-b699-70092aa91cf2",
   "metadata": {},
   "outputs": [
    {
     "name": "stdout",
     "output_type": "stream",
     "text": [
      "[4, 5]\n"
     ]
    }
   ],
   "source": [
    "print(a[3:5]) # 5는 미만으로 해석됨 --> 3, 4번 방에 저장된 값을 뽑아냄"
   ]
  },
  {
   "cell_type": "code",
   "execution_count": 85,
   "id": "6ab5cb49-a878-4fec-b3c7-9f7c0a842800",
   "metadata": {},
   "outputs": [
    {
     "name": "stdout",
     "output_type": "stream",
     "text": [
      "[4]\n"
     ]
    }
   ],
   "source": [
    "print(a[3:4]) # 4는 미만으로 해석됨 --> 3번 방에 저장된 값을 찾아냄!"
   ]
  },
  {
   "cell_type": "code",
   "execution_count": 87,
   "id": "63fdfc6e-52eb-4ff3-a9bf-8804277c3cea",
   "metadata": {},
   "outputs": [
    {
     "name": "stdout",
     "output_type": "stream",
     "text": [
      "<class 'list'>\n"
     ]
    }
   ],
   "source": [
    "print(type(a[3:4])) # 슬라이싱으로 뽑아낸 결과는 무조건 전부 다 리스트"
   ]
  },
  {
   "cell_type": "code",
   "execution_count": 88,
   "id": "d8c95e63-a5e7-47d1-bcad-396ce2e6291e",
   "metadata": {},
   "outputs": [
    {
     "name": "stdout",
     "output_type": "stream",
     "text": [
      "[1, 2, 3, 4, 5, 6, 7, 8]\n",
      "8\n"
     ]
    }
   ],
   "source": [
    "# len() <-- length(n. 길이 <-- 배열(Array) 내의 원소의 총 개수)\n",
    "print(a)\n",
    "print(len(a))"
   ]
  },
  {
   "cell_type": "code",
   "execution_count": 90,
   "id": "44369f16-dce8-4a0a-8aa4-95272482c162",
   "metadata": {},
   "outputs": [
    {
     "name": "stdout",
     "output_type": "stream",
     "text": [
      "['월', '화', '수', '목', '금']\n",
      "['월', '화', '수', '목', '금', '토', '일']\n"
     ]
    }
   ],
   "source": [
    "# 메소드(Method) --> append() v. 덧붙이다\n",
    "print(c)\n",
    "c.append('토')\n",
    "c.append('일')\n",
    "print(c)"
   ]
  }
 ],
 "metadata": {
  "kernelspec": {
   "display_name": "Python 3 (ipykernel)",
   "language": "python",
   "name": "python3"
  },
  "language_info": {
   "codemirror_mode": {
    "name": "ipython",
    "version": 3
   },
   "file_extension": ".py",
   "mimetype": "text/x-python",
   "name": "python",
   "nbconvert_exporter": "python",
   "pygments_lexer": "ipython3",
   "version": "3.12.7"
  }
 },
 "nbformat": 4,
 "nbformat_minor": 5
}
