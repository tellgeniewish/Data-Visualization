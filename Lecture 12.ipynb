{
 "cells": [
  {
   "cell_type": "markdown",
   "id": "859ff1bc-a6a7-4c21-acfc-b76ec50ff2ad",
   "metadata": {},
   "source": [
    "### **Chapter 02. 데이터 확인하기**"
   ]
  },
  {
   "cell_type": "code",
   "execution_count": 2,
   "id": "28850540-f628-48c3-948c-1fe8d5af9a7f",
   "metadata": {},
   "outputs": [
    {
     "data": {
      "text/html": [
       "<div>\n",
       "<style scoped>\n",
       "    .dataframe tbody tr th:only-of-type {\n",
       "        vertical-align: middle;\n",
       "    }\n",
       "\n",
       "    .dataframe tbody tr th {\n",
       "        vertical-align: top;\n",
       "    }\n",
       "\n",
       "    .dataframe thead th {\n",
       "        text-align: right;\n",
       "    }\n",
       "</style>\n",
       "<table border=\"1\" class=\"dataframe\">\n",
       "  <thead>\n",
       "    <tr style=\"text-align: right;\">\n",
       "      <th></th>\n",
       "      <th>날짜</th>\n",
       "      <th>아황산가스</th>\n",
       "      <th>일산화탄소</th>\n",
       "      <th>오존</th>\n",
       "      <th>이산화질소</th>\n",
       "      <th>PM10</th>\n",
       "      <th>PM2.5</th>\n",
       "    </tr>\n",
       "  </thead>\n",
       "  <tbody>\n",
       "    <tr>\n",
       "      <th>0</th>\n",
       "      <td>2021-01-01 01</td>\n",
       "      <td>0.004</td>\n",
       "      <td>0.4</td>\n",
       "      <td>0.021</td>\n",
       "      <td>0.018</td>\n",
       "      <td>NaN</td>\n",
       "      <td>12.0</td>\n",
       "    </tr>\n",
       "    <tr>\n",
       "      <th>1</th>\n",
       "      <td>2021-01-01 02</td>\n",
       "      <td>0.004</td>\n",
       "      <td>0.4</td>\n",
       "      <td>0.019</td>\n",
       "      <td>0.020</td>\n",
       "      <td>20.0</td>\n",
       "      <td>13.0</td>\n",
       "    </tr>\n",
       "    <tr>\n",
       "      <th>2</th>\n",
       "      <td>2021-01-01 03</td>\n",
       "      <td>0.004</td>\n",
       "      <td>0.5</td>\n",
       "      <td>0.017</td>\n",
       "      <td>0.023</td>\n",
       "      <td>23.0</td>\n",
       "      <td>13.0</td>\n",
       "    </tr>\n",
       "  </tbody>\n",
       "</table>\n",
       "</div>"
      ],
      "text/plain": [
       "              날짜  아황산가스  일산화탄소     오존  이산화질소  PM10  PM2.5\n",
       "0  2021-01-01 01  0.004    0.4  0.021  0.018   NaN   12.0\n",
       "1  2021-01-01 02  0.004    0.4  0.019  0.020  20.0   13.0\n",
       "2  2021-01-01 03  0.004    0.5  0.017  0.023  23.0   13.0"
      ]
     },
     "execution_count": 2,
     "metadata": {},
     "output_type": "execute_result"
    }
   ],
   "source": [
    "import pandas as pd\n",
    "\n",
    "dust = pd.read_excel(\"(Dataset) Lecture 12 - 환경 관련 데이터/dust.xlsx\")\n",
    "dust.head(3)"
   ]
  },
  {
   "cell_type": "code",
   "execution_count": 3,
   "id": "992c84e6-f1b3-4961-9bb1-24db98d1bcd7",
   "metadata": {},
   "outputs": [
    {
     "name": "stdout",
     "output_type": "stream",
     "text": [
      "<class 'pandas.core.frame.DataFrame'>\n",
      "RangeIndex: 744 entries, 0 to 743\n",
      "Data columns (total 7 columns):\n",
      " #   Column  Non-Null Count  Dtype  \n",
      "---  ------  --------------  -----  \n",
      " 0   날짜      744 non-null    object \n",
      " 1   아황산가스   740 non-null    float64\n",
      " 2   일산화탄소   740 non-null    float64\n",
      " 3   오존      740 non-null    float64\n",
      " 4   이산화질소   740 non-null    float64\n",
      " 5   PM10    725 non-null    float64\n",
      " 6   PM2.5   739 non-null    float64\n",
      "dtypes: float64(6), object(1)\n",
      "memory usage: 40.8+ KB\n"
     ]
    }
   ],
   "source": [
    "dust.info()"
   ]
  },
  {
   "cell_type": "code",
   "execution_count": 4,
   "id": "417b0a72-d0f0-415d-bb7e-3843a59e2e9d",
   "metadata": {},
   "outputs": [
    {
     "data": {
      "text/html": [
       "<div>\n",
       "<style scoped>\n",
       "    .dataframe tbody tr th:only-of-type {\n",
       "        vertical-align: middle;\n",
       "    }\n",
       "\n",
       "    .dataframe tbody tr th {\n",
       "        vertical-align: top;\n",
       "    }\n",
       "\n",
       "    .dataframe thead th {\n",
       "        text-align: right;\n",
       "    }\n",
       "</style>\n",
       "<table border=\"1\" class=\"dataframe\">\n",
       "  <thead>\n",
       "    <tr style=\"text-align: right;\">\n",
       "      <th></th>\n",
       "      <th>아황산가스</th>\n",
       "      <th>일산화탄소</th>\n",
       "      <th>오존</th>\n",
       "      <th>이산화질소</th>\n",
       "      <th>PM10</th>\n",
       "      <th>PM2.5</th>\n",
       "    </tr>\n",
       "  </thead>\n",
       "  <tbody>\n",
       "    <tr>\n",
       "      <th>count</th>\n",
       "      <td>740.000000</td>\n",
       "      <td>740.000000</td>\n",
       "      <td>740.000000</td>\n",
       "      <td>740.000000</td>\n",
       "      <td>725.000000</td>\n",
       "      <td>739.000000</td>\n",
       "    </tr>\n",
       "    <tr>\n",
       "      <th>mean</th>\n",
       "      <td>0.003654</td>\n",
       "      <td>0.563243</td>\n",
       "      <td>0.014154</td>\n",
       "      <td>0.030422</td>\n",
       "      <td>33.325517</td>\n",
       "      <td>21.833559</td>\n",
       "    </tr>\n",
       "    <tr>\n",
       "      <th>std</th>\n",
       "      <td>0.000628</td>\n",
       "      <td>0.164593</td>\n",
       "      <td>0.010689</td>\n",
       "      <td>0.014664</td>\n",
       "      <td>19.930029</td>\n",
       "      <td>12.222892</td>\n",
       "    </tr>\n",
       "    <tr>\n",
       "      <th>min</th>\n",
       "      <td>0.002000</td>\n",
       "      <td>0.300000</td>\n",
       "      <td>0.001000</td>\n",
       "      <td>0.006000</td>\n",
       "      <td>3.000000</td>\n",
       "      <td>3.000000</td>\n",
       "    </tr>\n",
       "    <tr>\n",
       "      <th>25%</th>\n",
       "      <td>0.003000</td>\n",
       "      <td>0.400000</td>\n",
       "      <td>0.003000</td>\n",
       "      <td>0.017000</td>\n",
       "      <td>20.000000</td>\n",
       "      <td>13.000000</td>\n",
       "    </tr>\n",
       "    <tr>\n",
       "      <th>50%</th>\n",
       "      <td>0.004000</td>\n",
       "      <td>0.500000</td>\n",
       "      <td>0.014000</td>\n",
       "      <td>0.030000</td>\n",
       "      <td>29.000000</td>\n",
       "      <td>19.000000</td>\n",
       "    </tr>\n",
       "    <tr>\n",
       "      <th>75%</th>\n",
       "      <td>0.004000</td>\n",
       "      <td>0.700000</td>\n",
       "      <td>0.024000</td>\n",
       "      <td>0.043000</td>\n",
       "      <td>43.000000</td>\n",
       "      <td>29.000000</td>\n",
       "    </tr>\n",
       "    <tr>\n",
       "      <th>max</th>\n",
       "      <td>0.006000</td>\n",
       "      <td>1.200000</td>\n",
       "      <td>0.037000</td>\n",
       "      <td>0.063000</td>\n",
       "      <td>163.000000</td>\n",
       "      <td>72.000000</td>\n",
       "    </tr>\n",
       "  </tbody>\n",
       "</table>\n",
       "</div>"
      ],
      "text/plain": [
       "            아황산가스       일산화탄소          오존       이산화질소        PM10       PM2.5\n",
       "count  740.000000  740.000000  740.000000  740.000000  725.000000  739.000000\n",
       "mean     0.003654    0.563243    0.014154    0.030422   33.325517   21.833559\n",
       "std      0.000628    0.164593    0.010689    0.014664   19.930029   12.222892\n",
       "min      0.002000    0.300000    0.001000    0.006000    3.000000    3.000000\n",
       "25%      0.003000    0.400000    0.003000    0.017000   20.000000   13.000000\n",
       "50%      0.004000    0.500000    0.014000    0.030000   29.000000   19.000000\n",
       "75%      0.004000    0.700000    0.024000    0.043000   43.000000   29.000000\n",
       "max      0.006000    1.200000    0.037000    0.063000  163.000000   72.000000"
      ]
     },
     "execution_count": 4,
     "metadata": {},
     "output_type": "execute_result"
    }
   ],
   "source": [
    "dust.describe()"
   ]
  },
  {
   "cell_type": "code",
   "execution_count": 5,
   "id": "30d6da3f-9365-4044-b3c8-50360daf325d",
   "metadata": {},
   "outputs": [
    {
     "data": {
      "text/plain": [
       "Index(['날짜', '아황산가스', '일산화탄소', '오존', '이산화질소', 'PM10', 'PM2.5'], dtype='object')"
      ]
     },
     "execution_count": 5,
     "metadata": {},
     "output_type": "execute_result"
    }
   ],
   "source": [
    "dust.columns"
   ]
  },
  {
   "cell_type": "code",
   "execution_count": 6,
   "id": "90f40dc5-b824-4206-ae8b-af04c8e806d8",
   "metadata": {},
   "outputs": [
    {
     "data": {
      "text/html": [
       "<div>\n",
       "<style scoped>\n",
       "    .dataframe tbody tr th:only-of-type {\n",
       "        vertical-align: middle;\n",
       "    }\n",
       "\n",
       "    .dataframe tbody tr th {\n",
       "        vertical-align: top;\n",
       "    }\n",
       "\n",
       "    .dataframe thead th {\n",
       "        text-align: right;\n",
       "    }\n",
       "</style>\n",
       "<table border=\"1\" class=\"dataframe\">\n",
       "  <thead>\n",
       "    <tr style=\"text-align: right;\">\n",
       "      <th></th>\n",
       "      <th>date</th>\n",
       "      <th>so2</th>\n",
       "      <th>co</th>\n",
       "      <th>o3</th>\n",
       "      <th>no2</th>\n",
       "      <th>PM10</th>\n",
       "      <th>PM2.5</th>\n",
       "    </tr>\n",
       "  </thead>\n",
       "  <tbody>\n",
       "    <tr>\n",
       "      <th>0</th>\n",
       "      <td>2021-01-01 01</td>\n",
       "      <td>0.004</td>\n",
       "      <td>0.4</td>\n",
       "      <td>0.021</td>\n",
       "      <td>0.018</td>\n",
       "      <td>NaN</td>\n",
       "      <td>12.0</td>\n",
       "    </tr>\n",
       "    <tr>\n",
       "      <th>1</th>\n",
       "      <td>2021-01-01 02</td>\n",
       "      <td>0.004</td>\n",
       "      <td>0.4</td>\n",
       "      <td>0.019</td>\n",
       "      <td>0.020</td>\n",
       "      <td>20.0</td>\n",
       "      <td>13.0</td>\n",
       "    </tr>\n",
       "    <tr>\n",
       "      <th>2</th>\n",
       "      <td>2021-01-01 03</td>\n",
       "      <td>0.004</td>\n",
       "      <td>0.5</td>\n",
       "      <td>0.017</td>\n",
       "      <td>0.023</td>\n",
       "      <td>23.0</td>\n",
       "      <td>13.0</td>\n",
       "    </tr>\n",
       "  </tbody>\n",
       "</table>\n",
       "</div>"
      ],
      "text/plain": [
       "            date    so2   co     o3    no2  PM10  PM2.5\n",
       "0  2021-01-01 01  0.004  0.4  0.021  0.018   NaN   12.0\n",
       "1  2021-01-01 02  0.004  0.4  0.019  0.020  20.0   13.0\n",
       "2  2021-01-01 03  0.004  0.5  0.017  0.023  23.0   13.0"
      ]
     },
     "execution_count": 6,
     "metadata": {},
     "output_type": "execute_result"
    }
   ],
   "source": [
    "dust.rename(columns={'날짜':'date',\n",
    "                     '아황산가스':'so2', \n",
    "                     '일산화탄소':'co', \n",
    "                     '오존':'o3', \n",
    "                     '이산화질소':'no2'}, inplace=True)\n",
    "\n",
    "dust.head(3)"
   ]
  },
  {
   "cell_type": "code",
   "execution_count": 7,
   "id": "d58409e4-26a2-4b58-a5ae-760a62cb23bc",
   "metadata": {},
   "outputs": [
    {
     "data": {
      "text/html": [
       "<div>\n",
       "<style scoped>\n",
       "    .dataframe tbody tr th:only-of-type {\n",
       "        vertical-align: middle;\n",
       "    }\n",
       "\n",
       "    .dataframe tbody tr th {\n",
       "        vertical-align: top;\n",
       "    }\n",
       "\n",
       "    .dataframe thead th {\n",
       "        text-align: right;\n",
       "    }\n",
       "</style>\n",
       "<table border=\"1\" class=\"dataframe\">\n",
       "  <thead>\n",
       "    <tr style=\"text-align: right;\">\n",
       "      <th></th>\n",
       "      <th>date</th>\n",
       "      <th>so2</th>\n",
       "      <th>co</th>\n",
       "      <th>o3</th>\n",
       "      <th>no2</th>\n",
       "      <th>PM10</th>\n",
       "      <th>PM2.5</th>\n",
       "    </tr>\n",
       "  </thead>\n",
       "  <tbody>\n",
       "    <tr>\n",
       "      <th>0</th>\n",
       "      <td>2021-01-01</td>\n",
       "      <td>0.004</td>\n",
       "      <td>0.4</td>\n",
       "      <td>0.021</td>\n",
       "      <td>0.018</td>\n",
       "      <td>NaN</td>\n",
       "      <td>12.0</td>\n",
       "    </tr>\n",
       "    <tr>\n",
       "      <th>1</th>\n",
       "      <td>2021-01-01</td>\n",
       "      <td>0.004</td>\n",
       "      <td>0.4</td>\n",
       "      <td>0.019</td>\n",
       "      <td>0.020</td>\n",
       "      <td>20.0</td>\n",
       "      <td>13.0</td>\n",
       "    </tr>\n",
       "    <tr>\n",
       "      <th>2</th>\n",
       "      <td>2021-01-01</td>\n",
       "      <td>0.004</td>\n",
       "      <td>0.5</td>\n",
       "      <td>0.017</td>\n",
       "      <td>0.023</td>\n",
       "      <td>23.0</td>\n",
       "      <td>13.0</td>\n",
       "    </tr>\n",
       "  </tbody>\n",
       "</table>\n",
       "</div>"
      ],
      "text/plain": [
       "          date    so2   co     o3    no2  PM10  PM2.5\n",
       "0  2021-01-01   0.004  0.4  0.021  0.018   NaN   12.0\n",
       "1  2021-01-01   0.004  0.4  0.019  0.020  20.0   13.0\n",
       "2  2021-01-01   0.004  0.5  0.017  0.023  23.0   13.0"
      ]
     },
     "execution_count": 7,
     "metadata": {},
     "output_type": "execute_result"
    }
   ],
   "source": [
    "dust[\"date\"] = dust[\"date\"].str[0:11] # year-month-day만 추출!\n",
    "\n",
    "dust.head(3)"
   ]
  },
  {
   "cell_type": "code",
   "execution_count": null,
   "id": "32678d5e-4292-4574-bb9d-8ff88d7b8399",
   "metadata": {},
   "outputs": [],
   "source": [
    "dust.info()"
   ]
  },
  {
   "cell_type": "code",
   "execution_count": null,
   "id": "e06ae4a8-8400-4660-a081-6b9dcb2f997b",
   "metadata": {},
   "outputs": [],
   "source": [
    "dust[\"date\"] = pd.to_datetime(dust[\"date\"])\n",
    "dust.info()"
   ]
  },
  {
   "cell_type": "code",
   "execution_count": null,
   "id": "cce05c2f-c61d-4377-8b70-e2c10da2c963",
   "metadata": {},
   "outputs": [],
   "source": [
    "print(dust[\"date\"].dt.year)\n",
    "print(dust[\"date\"].dt.month)\n",
    "print(dust[\"date\"].dt.day)"
   ]
  },
  {
   "cell_type": "code",
   "execution_count": null,
   "id": "67015540-6bf7-4aa1-bd5d-3909d9fd250e",
   "metadata": {},
   "outputs": [],
   "source": [
    "dust.head(3)"
   ]
  },
  {
   "cell_type": "code",
   "execution_count": null,
   "id": "a32bc54b-c906-4195-be87-3e61f7d6ce4e",
   "metadata": {},
   "outputs": [],
   "source": [
    "dust[\"year\"] = dust[\"date\"].dt.year\n",
    "dust[\"month\"] = dust[\"date\"].dt.month\n",
    "dust[\"day\"] = dust[\"date\"].dt.day\n",
    "\n",
    "dust.head(3)"
   ]
  },
  {
   "cell_type": "code",
   "execution_count": null,
   "id": "68928004-38c2-4f34-a17e-725fca9c61ab",
   "metadata": {},
   "outputs": [],
   "source": [
    "dust.columns"
   ]
  },
  {
   "cell_type": "code",
   "execution_count": null,
   "id": "ded9db48-5aa1-48e9-89d9-5bdb2fe1333c",
   "metadata": {},
   "outputs": [],
   "source": [
    "dust = dust[['date', 'year', 'month', 'day', 'so2', 'co', 'o3', 'no2', 'PM10', 'PM2.5']]\n",
    "\n",
    "dust.head(3)"
   ]
  },
  {
   "cell_type": "code",
   "execution_count": null,
   "id": "98c94ab6-e03b-4146-84e4-e552d8a58499",
   "metadata": {},
   "outputs": [],
   "source": [
    "# Not Available --> NA --> 결측값\n",
    "dust.isna().sum()"
   ]
  },
  {
   "cell_type": "code",
   "execution_count": null,
   "id": "81c57eae-39e7-477d-9210-ab5ac2acce8c",
   "metadata": {},
   "outputs": [],
   "source": [
    "dust.head()\n",
    "# NaN --> Not a Number --> 결측값"
   ]
  },
  {
   "cell_type": "code",
   "execution_count": null,
   "id": "4bad061e-0d79-406b-921d-ff312b1e257b",
   "metadata": {},
   "outputs": [],
   "source": [
    "# dust.dropna()\n",
    "\n",
    "# 패딩(padding) --> \"pad\" --> NAN이 있었던 행의 바로 앞 행의 값으로 채움!\n",
    "# front + fill --> \"ffill\"\n",
    "# back + fill --> \"bfill\"\n",
    "dust = dust.fillna(method=\"pad\") # \"pad\" <-- 기본값이 \"ffill\"\n",
    "\n",
    "dust.head()"
   ]
  },
  {
   "cell_type": "code",
   "execution_count": null,
   "id": "9718505d-d10e-4e1f-8fd8-11612f9829b9",
   "metadata": {},
   "outputs": [],
   "source": [
    "dust = dust.fillna(method=\"bfill\") # \"backfill\" or \"bfill\"\n",
    "\n",
    "dust.head()"
   ]
  },
  {
   "cell_type": "code",
   "execution_count": null,
   "id": "29d1171e-05c8-4355-9c6f-1a5afc764272",
   "metadata": {},
   "outputs": [],
   "source": [
    "r'''\n",
    "경고 의미\n",
    "\n",
    "C:\\Users\\user\\AppData\\Local\\Temp\\ipykernel_17432\\1376247097.py:6: FutureWarning: DataFrame.fillna with 'method' is deprecated and will raise in a future version. Use obj.ffill() or obj.bfill() instead.\n",
    "  dust = dust.fillna(method=\"pad\") # \"pad\" <-- 기본값이 \"ffill\"\n",
    "\n",
    "C:\\Users\\user\\AppData\\Local\\Temp\\ipykernel_17432\\3301697547.py:1: FutureWarning: DataFrame.fillna with 'method' is deprecated and will raise in a future version. Use obj.ffill() or obj.bfill() instead.\n",
    "  dust = dust.fillna(method=\"bfill\") # \"backfill\" or \"bfill\"\n",
    "'''\n",
    "\n",
    "# (X) dust.fillna(method=\"pad\")\n",
    "'''\n",
    "앞으로는 아래의 방식을 사용해야 함(내년 즈음...?)\n",
    "'''\n",
    "# (O) dust.ffill()\n",
    "# (O) dust.bfill()\n",
    "\n",
    "dust.isna().sum()"
   ]
  },
  {
   "cell_type": "code",
   "execution_count": null,
   "id": "490e3447-c347-4f1d-8bc7-44fb9a2b9f0c",
   "metadata": {},
   "outputs": [],
   "source": [
    "weather = pd.read_excel(\"(Dataset) Lecture 12 - 환경 관련 데이터/weather.xlsx\")\n",
    "weather"
   ]
  },
  {
   "cell_type": "code",
   "execution_count": null,
   "id": "189e0601-d3c7-4537-aec5-04f93e3c08bc",
   "metadata": {},
   "outputs": [],
   "source": [
    "weather.info() # 2021-01-31 24:00:00은 2월로 봐서 row의 개수가 743"
   ]
  },
  {
   "cell_type": "code",
   "execution_count": null,
   "id": "e5e86356-e697-4b9c-9413-9ba48fc7c419",
   "metadata": {},
   "outputs": [],
   "source": [
    "weather.drop([\"지점\", \"지점명\"], axis=1, inplace=True)\n",
    "\n",
    "weather.head(3)"
   ]
  },
  {
   "cell_type": "code",
   "execution_count": null,
   "id": "bfc2a472-bf2f-4b71-aaf0-1b495a2a423f",
   "metadata": {},
   "outputs": [],
   "source": [
    "weather.columns"
   ]
  },
  {
   "cell_type": "code",
   "execution_count": null,
   "id": "fde051b8-135e-43fb-b63a-fd17083f0ed6",
   "metadata": {},
   "outputs": [],
   "source": [
    "weather.columns = [\"date\", \"temp\", \"wind\", \"rain\", \"humid\"]\n",
    "weather.head(3)"
   ]
  },
  {
   "cell_type": "code",
   "execution_count": null,
   "id": "617208cd-765b-461c-9ccc-463a35178dc4",
   "metadata": {},
   "outputs": [],
   "source": [
    "weather.info()"
   ]
  },
  {
   "cell_type": "code",
   "execution_count": null,
   "id": "6ab2dda5-2f87-4dc5-bd7e-d5b7dbc8aab1",
   "metadata": {},
   "outputs": [],
   "source": [
    "weather[\"date\"] = weather[\"date\"].dt.date\n",
    "weather.head(3)"
   ]
  },
  {
   "cell_type": "code",
   "execution_count": null,
   "id": "403aa92d-4e9e-4507-bc87-a8cef3ebbfaf",
   "metadata": {},
   "outputs": [],
   "source": [
    "weather.info()"
   ]
  },
  {
   "cell_type": "code",
   "execution_count": null,
   "id": "bd1cd9f8-df37-474c-bfb8-c7cee4ad99ac",
   "metadata": {},
   "outputs": [],
   "source": [
    "weather[\"date\"] = pd.to_datetime(weather[\"date\"])\n",
    "weather.info()"
   ]
  },
  {
   "cell_type": "markdown",
   "id": "28d50c5d-f01f-4151-8035-628174c6874a",
   "metadata": {},
   "source": [
    "### **Chapter 03. 데이터 병합**"
   ]
  },
  {
   "cell_type": "code",
   "execution_count": null,
   "id": "f75185a8-9318-4e0f-991d-bda4b2c195c8",
   "metadata": {},
   "outputs": [],
   "source": [
    "# 행의 개수가 다르다!\n",
    "print(dust.shape) # 2021-01-31 24:00:00 저장됨!\n",
    "print(weather.shape) # 2021-01-31 24:00:00 저장 안 됨!"
   ]
  },
  {
   "cell_type": "code",
   "execution_count": null,
   "id": "59c7ab33-f300-4012-86dc-98a824feeb3c",
   "metadata": {},
   "outputs": [],
   "source": [
    "dust.tail(3)"
   ]
  },
  {
   "cell_type": "code",
   "execution_count": null,
   "id": "8554517a-6263-4078-a69e-f293d4f6b2a4",
   "metadata": {},
   "outputs": [],
   "source": [
    "dust.drop(index=743, axis=0, inplace=True)\n",
    "dust.tail(3)"
   ]
  },
  {
   "cell_type": "code",
   "execution_count": null,
   "id": "f3f5da8e-31c7-42fd-886c-f4ea5af63807",
   "metadata": {},
   "outputs": [],
   "source": [
    "df = pd.merge(dust, weather, on=\"date\")\n",
    "df.head(3)"
   ]
  },
  {
   "cell_type": "code",
   "execution_count": null,
   "id": "9f6e5ed4-8293-4799-a6d6-3810ebf13c6a",
   "metadata": {},
   "outputs": [],
   "source": [
    "df.info()"
   ]
  },
  {
   "cell_type": "code",
   "execution_count": null,
   "id": "cb9e04b7-c58f-4964-aa2a-702b1de938aa",
   "metadata": {},
   "outputs": [],
   "source": [
    "df.shape"
   ]
  },
  {
   "cell_type": "markdown",
   "id": "04614545-5d2e-4531-ae0d-9b06b41299b2",
   "metadata": {},
   "source": [
    "### **Chapter 04. 데이터 분석 및 시각화**"
   ]
  },
  {
   "cell_type": "code",
   "execution_count": null,
   "id": "ccb3234f-86ee-4e6a-97a6-3827e5cd7367",
   "metadata": {},
   "outputs": [],
   "source": [
    "df.corr() # 문자열이 있으면 drop 시키고 corr()해야 함"
   ]
  },
  {
   "cell_type": "code",
   "execution_count": null,
   "id": "280d7c2f-b670-4a11-8f19-8fad9078eff1",
   "metadata": {},
   "outputs": [],
   "source": [
    "corr = df.corr()\n",
    "corr[\"PM10\"]"
   ]
  },
  {
   "cell_type": "code",
   "execution_count": null,
   "id": "e87a2633-df6a-4a49-8840-92b0dea7f70f",
   "metadata": {},
   "outputs": [],
   "source": [
    "corr = df.corr()\n",
    "corr[\"PM10\"].sort_values(ascending=False) # 내림차순 정렬!"
   ]
  },
  {
   "cell_type": "code",
   "execution_count": null,
   "id": "fe66bb63-42bd-4572-9f1d-a14afc8df29c",
   "metadata": {},
   "outputs": [],
   "source": [
    "corr[\"PM2.5\"].sort_values(ascending=False)"
   ]
  },
  {
   "cell_type": "code",
   "execution_count": null,
   "id": "65b5f7a9-aa41-44f0-9222-270652723cdb",
   "metadata": {},
   "outputs": [],
   "source": [
    "# corr을 볼 때는 인과관계로 보면 안 되고, 상관관계에 대해서만"
   ]
  },
  {
   "cell_type": "code",
   "execution_count": null,
   "id": "41cf2905-db21-463a-91bc-5a8bdf9c00c5",
   "metadata": {},
   "outputs": [],
   "source": [
    "import matplotlib.pyplot as plt\n",
    "import seaborn as sns\n",
    "\n",
    "plt.figure()\n",
    "\n",
    "# histogram\n",
    "df.hist(bins=50)\n",
    "\n",
    "plt.show()"
   ]
  },
  {
   "cell_type": "code",
   "execution_count": null,
   "id": "260e5535-8f87-49a7-a2ef-ea31e5b90254",
   "metadata": {},
   "outputs": [],
   "source": [
    "df.columns"
   ]
  },
  {
   "cell_type": "code",
   "execution_count": null,
   "id": "acf43ee5-178c-4452-9678-4c576fc2db59",
   "metadata": {},
   "outputs": [],
   "source": [
    "plt.figure()\n",
    "\n",
    "# histogram\n",
    "df[['so2', 'co', 'o3', 'no2', 'PM10', 'PM2.5', 'temp', 'wind', 'rain', 'humid']].hist(bins=50)\n",
    "\n",
    "plt.show()"
   ]
  },
  {
   "cell_type": "code",
   "execution_count": null,
   "id": "e898c0bc-911d-41e2-9dfc-cee9655bf059",
   "metadata": {},
   "outputs": [],
   "source": [
    "plt.figure(figsize=(10,4))\n",
    "\n",
    "sns.barplot(data=df, x=\"day\", y=\"PM10\")\n",
    "\n",
    "plt.grid()\n",
    "plt.show()"
   ]
  },
  {
   "cell_type": "code",
   "execution_count": null,
   "id": "877a6a72-55ca-4f1a-ac3a-a9a9ceb3e8a7",
   "metadata": {},
   "outputs": [],
   "source": [
    "plt.figure(figsize=(10,4))\n",
    "\n",
    "sns.barplot(data=df, x=\"day\", y=\"PM10\", hue=\"day\", palette=\"Spectral\", legend=False)\n",
    "\n",
    "plt.grid()\n",
    "plt.show()"
   ]
  },
  {
   "cell_type": "code",
   "execution_count": null,
   "id": "1cfd7151-da76-4aae-ac7e-cf6b96c63860",
   "metadata": {},
   "outputs": [],
   "source": [
    "df.head()"
   ]
  },
  {
   "cell_type": "code",
   "execution_count": null,
   "id": "cc50ad0a-7345-4fbc-a78b-442f8643eb2e",
   "metadata": {},
   "outputs": [],
   "source": [
    "df.corr()"
   ]
  },
  {
   "cell_type": "code",
   "execution_count": null,
   "id": "a0e7c576-fd2c-4343-9c5e-dbf16506ac54",
   "metadata": {},
   "outputs": [],
   "source": [
    "corr = df.drop([\"date\", \"year\", \"month\", \"day\"], axis=1).corr()\n",
    "corr"
   ]
  },
  {
   "cell_type": "code",
   "execution_count": null,
   "id": "52f03221-b920-45bc-86f4-e036302c8e99",
   "metadata": {},
   "outputs": [],
   "source": [
    "plt.figure()\n",
    "\n",
    "sns.heatmap(data = corr, annot=True, cmap=\"Greens\", fmt=\".2f\") # format\n",
    "\n",
    "plt.show()"
   ]
  },
  {
   "cell_type": "code",
   "execution_count": null,
   "id": "24e7fe8d-878d-4f02-bd08-0f43fe6ff8eb",
   "metadata": {},
   "outputs": [],
   "source": [
    "plt.figure(figsize=(10, 4))\n",
    "\n",
    "plt.scatter(df[\"temp\"], df[\"PM10\"], c=\"blue\", s=2, alpha=0.3)\n",
    "\n",
    "plt.xlabel(\"Temperature\")\n",
    "plt.ylabel(\"PM10\")\n",
    "plt.grid()\n",
    "plt.show()"
   ]
  },
  {
   "cell_type": "code",
   "execution_count": null,
   "id": "42911d69-568e-42e8-a0ce-37e0409e4595",
   "metadata": {},
   "outputs": [],
   "source": [
    "plt.figure(figsize=(10, 4))\n",
    "\n",
    "plt.scatter(df[\"wind\"], df[\"PM10\"], c=\"red\", s=2.5, alpha=0.3)\n",
    "\n",
    "plt.xlabel(\"Wind Speed\")\n",
    "plt.ylabel(\"PM10\")\n",
    "plt.grid()\n",
    "plt.show()"
   ]
  },
  {
   "cell_type": "code",
   "execution_count": null,
   "id": "7eddb503-489f-480a-979a-255f1ce5454b",
   "metadata": {},
   "outputs": [],
   "source": [
    "plt.figure(figsize=(10, 4))\n",
    "\n",
    "plt.scatter(df[\"rain\"], df[\"PM10\"], c=\"green\", s=4.5, alpha=0.3)\n",
    "\n",
    "plt.xlabel(\"Rainfall\")\n",
    "plt.ylabel(\"PM10\")\n",
    "plt.grid()\n",
    "plt.show()"
   ]
  },
  {
   "cell_type": "code",
   "execution_count": null,
   "id": "4c264291-1f4b-44a4-952b-b6bfb90b123a",
   "metadata": {},
   "outputs": [],
   "source": [
    "plt.figure(figsize=(10, 4))\n",
    "\n",
    "plt.scatter(df[\"humid\"], df[\"PM10\"], c=\"orange\", s=8.5, alpha=0.3)\n",
    "\n",
    "plt.xlabel(\"humid\")\n",
    "plt.ylabel(\"PM10\")\n",
    "plt.grid()\n",
    "plt.show()"
   ]
  },
  {
   "cell_type": "code",
   "execution_count": null,
   "id": "f9d98f41-0b76-4c71-a2a7-738434e9973b",
   "metadata": {},
   "outputs": [],
   "source": [
    "plt.figure(figsize=(10, 4))\n",
    "\n",
    "plt.scatter(df[\"PM10\"], df[\"PM2.5\"], c=\"blue\", s=8, alpha=0.3)\n",
    "\n",
    "plt.xlabel(\"PM10\")\n",
    "plt.ylabel(\"PM2.5\")\n",
    "plt.grid()\n",
    "plt.show()"
   ]
  }
 ],
 "metadata": {
  "kernelspec": {
   "display_name": "Python 3 (ipykernel)",
   "language": "python",
   "name": "python3"
  },
  "language_info": {
   "codemirror_mode": {
    "name": "ipython",
    "version": 3
   },
   "file_extension": ".py",
   "mimetype": "text/x-python",
   "name": "python",
   "nbconvert_exporter": "python",
   "pygments_lexer": "ipython3",
   "version": "3.12.7"
  }
 },
 "nbformat": 4,
 "nbformat_minor": 5
}
